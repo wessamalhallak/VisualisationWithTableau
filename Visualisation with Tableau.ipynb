{
 "cells": [
  {
   "cell_type": "markdown",
   "metadata": {},
   "source": [
    "# Visualisation with Tableau#\n",
    " Author:  Wessam Alhallak "
   ]
  },
  {
   "cell_type": "markdown",
   "metadata": {},
   "source": [
    "### Data Set ###"
   ]
  },
  {
   "cell_type": "markdown",
   "metadata": {},
   "source": [
    "The Dataset can be downloaded from this link <a href=\"https://s3.amazonaws.com/udacity-hosted-downloads/ud651/prosperLoanData.csv\">Proposer Loan Data </a><br/>\n",
    "<p>This data set contains 113,937 loans with 81 variables on each loan, including loan amount, borrower rate (or interest rate), current loan status, borrower income, and many others.</p>\n"
   ]
  },
  {
   "cell_type": "markdown",
   "metadata": {},
   "source": [
    "## Visualisation##\n",
    "\n",
    "<p>The data set has alot of variable to get Visualisation for all variable it will take alot of time I will just try to get a story form this data set with some of dash boards each dash board will cover a varaible and realtion ship with some other </p>\n",
    "\n",
    "<p> the link for this Visualisation is <a href=\"https://public.tableau.com/profile/wessam.alhallak#!/vizhome/Loan_15539772362130/LoanCount?publish=yes\">Visualisation with Tableau </a> I hope you will like it </p>\n"
   ]
  }
 ],
 "metadata": {
  "kernelspec": {
   "display_name": "Python 3",
   "language": "python",
   "name": "python3"
  },
  "language_info": {
   "codemirror_mode": {
    "name": "ipython",
    "version": 3
   },
   "file_extension": ".py",
   "mimetype": "text/x-python",
   "name": "python",
   "nbconvert_exporter": "python",
   "pygments_lexer": "ipython3",
   "version": "3.6.5"
  }
 },
 "nbformat": 4,
 "nbformat_minor": 2
}
