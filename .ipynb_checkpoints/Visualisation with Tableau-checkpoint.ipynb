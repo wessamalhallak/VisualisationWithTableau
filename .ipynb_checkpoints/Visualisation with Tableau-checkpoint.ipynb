{
 "cells": [
  {
   "cell_type": "markdown",
   "metadata": {},
   "source": [
    "# Visualisation with Tableau#\n",
    " Author:  Wessam Alhallak "
   ]
  },
  {
   "cell_type": "markdown",
   "metadata": {},
   "source": [
    "## Data Set"
   ]
  },
  {
   "cell_type": "markdown",
   "metadata": {},
   "source": [
    "The Dataset can be downloaded from this link <a href=\"https://s3.amazonaws.com/udacity-hosted-downloads/ud651/prosperLoanData.csv.\n",
    "\">Proposer Loan Data </a><br/>\n",
    "<p>This data set contains 113,937 loans with 81 variables on each loan, including loan amount, borrower rate (or interest rate), current loan status, borrower income, and many others.</p>\n"
   ]
  },
  {
   "cell_type": "markdown",
   "metadata": {},
   "source": [
    "## Visualisation \n",
    "\n",
    "<p>The data set has alot of variable to get Visualisation for all variable it will take alot of time I will\n",
    "              just try to get a story form this data set with some of dash boards each dash board will cover a varaible\n",
    "              and realtion ship with some other </p>\n",
    "            <p> the link for the initial visualisation is <a\n",
    "                href=\"https://public.tableau.com/profile/wessam.alhallak#!/vizhome/Loan_15539772362130/LoanCount?publish=yes\">Initital\n",
    "                Visualisation </a> </p>\n",
    "            <p>https://public.tableau.com/profile/wessam.alhallak#!/vizhome/LoanInit/ProposalRateStudyandVisualasation\n",
    "            </p>\n",
    "            <p> the link for the final visualisation is <a\n",
    "                href=\"https://public.tableau.com/shared/B5NCJSCQM?:display_count=yes\">Final Visualisation </a> </p>\n",
    "            <p>https://public.tableau.com/shared/B5NCJSCQM?:display_count=yes</p>"
   ]
  },
  {
   "cell_type": "markdown",
   "metadata": {},
   "source": [
    "### Findings:"
   ]
  },
  {
   "cell_type": "markdown",
   "metadata": {},
   "source": [
    "1- Executive, Computer Programmer, Sales-Communication are in the top regarding Loan total Loan in all Dataset, While Teacher are the hast the most loan count"
   ]
  },
  {
   "cell_type": "markdown",
   "metadata": {},
   "source": [
    "2- in other hand Judges are the highst avarage borrower students tend to loan a less than third when we compare them with Judge. in the same time the are willing to pay more in borrow rate which is clearly understandble the risk of they are not able to pay back is the most."
   ]
  },
  {
   "cell_type": "markdown",
   "metadata": {},
   "source": [
    "3 - the borrow rate is highly correlated with the loan time and how much the borrwer will pay monthly"
   ]
  },
  {
   "cell_type": "markdown",
   "metadata": {},
   "source": [
    "### Design:\n"
   ]
  },
  {
   "cell_type": "markdown",
   "metadata": {},
   "source": [
    "Using Bubble set for market share with color variable to increase the importance of each category (factor) when there is many unique value in the factor"
   ]
  },
  {
   "cell_type": "markdown",
   "metadata": {},
   "source": [
    "Using dynamic view for some time changing variables to let the viewer feel the changing in it (by using page feature in Tableau) \n"
   ]
  },
  {
   "cell_type": "markdown",
   "metadata": {},
   "source": [
    "Using a parallel bar diagram for some categories ( few unique value like Term only 3 (12,36,60) )to make the comparison in each value of the factor more direct for perception "
   ]
  },
  {
   "cell_type": "markdown",
   "metadata": {},
   "source": [
    "Using pie diagram to show the market share for IncomeRange and the change in time"
   ]
  },
  {
   "cell_type": "markdown",
   "metadata": {},
   "source": [
    "Using Scatter plot to show the relation between to measure : and also using color to make it clear of the deference between terms "
   ]
  },
  {
   "cell_type": "markdown",
   "metadata": {},
   "source": [
    "Using a parallel\n",
    "bar diagram for some categories ( few unique value like Term only 3 (12,36,60) )to make the comparison in each value of the factor more direct for perception "
   ]
  },
  {
   "cell_type": "markdown",
   "metadata": {},
   "source": [
    "## Feedback: \n"
   ]
  },
  {
   "cell_type": "markdown",
   "metadata": {},
   "source": [
    "1-Make the borrower rate as a size variable to make it clear that when the value and turst of the borrower is high make the rate low : in the second dashboard of the story"
   ]
  },
  {
   "cell_type": "markdown",
   "metadata": {},
   "source": [
    "2- All the dashboards and workspaces which are already included in story should be hidden ( dont repeat yourself) ."
   ]
  },
  {
   "cell_type": "markdown",
   "metadata": {},
   "source": [
    "3- Adjust the color for the diagrams to make it color blind friendly"
   ]
  },
  {
   "cell_type": "markdown",
   "metadata": {},
   "source": [
    "4- give a small discerption for the element of the story and make it easy to understand and self-digest."
   ]
  }
 ],
 "metadata": {
  "kernelspec": {
   "display_name": "Python 3",
   "language": "python",
   "name": "python3"
  },
  "language_info": {
   "codemirror_mode": {
    "name": "ipython",
    "version": 3
   },
   "file_extension": ".py",
   "mimetype": "text/x-python",
   "name": "python",
   "nbconvert_exporter": "python",
   "pygments_lexer": "ipython3",
   "version": "3.6.5"
  }
 },
 "nbformat": 4,
 "nbformat_minor": 2
}
